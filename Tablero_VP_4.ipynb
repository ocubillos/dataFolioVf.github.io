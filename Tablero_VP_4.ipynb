{
 "cells": [
  {
   "cell_type": "code",
   "execution_count": null,
   "metadata": {
    "id": "5sKuC5TDSs3L"
   },
   "outputs": [],
   "source": [
    "#pip install jupyter-dash -q"
   ]
  },
  {
   "cell_type": "code",
   "execution_count": null,
   "metadata": {
    "id": "0G3EgHATSyf_"
   },
   "outputs": [],
   "source": [
    "#pip install dash-cytoscape -q"
   ]
  },
  {
   "cell_type": "code",
   "execution_count": 1,
   "metadata": {
    "id": "Fprav-AxSzJ1"
   },
   "outputs": [
    {
     "name": "stderr",
     "output_type": "stream",
     "text": [
      "\n",
      "Bad key \"text.kerning_factor\" on line 4 in\n",
      "C:\\Users\\Odri\\anaconda3\\lib\\site-packages\\matplotlib\\mpl-data\\stylelib\\_classic_test_patch.mplstyle.\n",
      "You probably need to get an updated matplotlibrc file from\n",
      "https://github.com/matplotlib/matplotlib/blob/v3.1.3/matplotlibrc.template\n",
      "or from the matplotlib source distribution\n"
     ]
    }
   ],
   "source": [
    "from jupyter_dash import JupyterDash  # pip install dash\n",
    "import dash_cytoscape as cyto  # pip install dash-cytoscape==0.2.0 or higher\n",
    "import dash_html_components as html\n",
    "import dash_core_components as dcc\n",
    "from dash.dependencies import Output, Input\n",
    "import pandas as pd  # pip install pandas\n",
    "import plotly.express as px\n",
    "import math\n",
    "import numpy as np\n",
    "import base64\n",
    "from dash import no_update\n",
    "from pandas_profiling import ProfileReport\n",
    "import pickle\n",
    "from statsmodels.tsa.api import VAR\n",
    "from statsmodels.tsa.stattools import adfuller\n",
    "from plotly.tools import mpl_to_plotly\n",
    "import warnings\n",
    "warnings.filterwarnings(\"ignore\")"
   ]
  },
  {
   "cell_type": "code",
   "execution_count": 2,
   "metadata": {
    "colab": {
     "base_uri": "https://localhost:8080/"
    },
    "id": "k91cohJ1KLZ6",
    "outputId": "95b76f64-f364-4ebc-c1ad-03932d3cd6b6"
   },
   "outputs": [],
   "source": [
    "#pip install --upgrade plotly"
   ]
  },
  {
   "cell_type": "code",
   "execution_count": 42,
   "metadata": {
    "colab": {
     "base_uri": "https://localhost:8080/"
    },
    "id": "DQ9sl1YMS1cO",
    "outputId": "4580b479-9306-429c-9674-ff1ff6a7aafa"
   },
   "outputs": [],
   "source": [
    "basedash=pd.read_csv('Base Tablero.csv')\n",
    "EAyP=basedash[basedash['Region']=='East Asia & Pacific']\n",
    "Malaysia=basedash[basedash['Country Name']=='Malaysia']\n",
    "Malaysia.fillna(0,inplace=True)\n",
    "df=pd.read_csv(\"data_KL_j.csv\",encoding='latin-1',sep=\",\",error_bad_lines=False)\n",
    "sim_log = np.log(df['SIMULATED_ENERGY_CONSUMPTION_kWh'])\n",
    "df['log_SIMULATED_ENERGY']=sim_log\n",
    "df['DATE']=pd.to_datetime(df['FECHA'])\n",
    "#fig_sun = px.sunburst(df, path=['INTERVENTION_BOOLEAN','HOUSEHOLD_SIZE_INT', 'HOUSEHOLD_INCOME_INT' ])\n",
    "fig_sun =px.line(df, x=\"FECHA\", y='DAILY_ENERGY_CONSUMPTION_KWH', color='HOUSEHOLD_SIZE_INT')\n",
    "fig_sun.update_layout(\n",
    "    title=\"Consumo diario de energía\",\n",
    "    xaxis_title=\"Fecha\",\n",
    "    yaxis_title=\"Consumo diario Kwh por Hogar\",\n",
    "    legend_title=\"Número habitaciones-hogar\")\n",
    "df1 =  pd.read_csv('grafica_treemap.csv')\n",
    "fig2 = px.treemap(df1,  path= ['Short Name', 'Indicator Name'], values='2013')\n",
    "fig2.update_layout(\n",
    "    title=\"Energía no renovable Asia\", legend_title=\"Asia\")\n",
    "fig_area = px.area(df, x=\"DATE\", y=\"MEAN_RELATIVE_HUMIDITY_PERC\")\n",
    "fig_area.update_layout(\n",
    "    title=\"Promedio humedad relativa\",\n",
    "    xaxis_title=\"Fecha\",\n",
    "    yaxis_title=\"Humedad relativa\" )\n",
    "loaded_model = pickle.load(open('finalized_model.sav', 'rb'))\n",
    "ds=pd.read_csv('ds.csv')\n",
    "ds_differenced=pd.read_csv('ds_diff.csv')"
   ]
  },
  {
   "cell_type": "code",
   "execution_count": 44,
   "metadata": {
    "colab": {
     "base_uri": "https://localhost:8080/",
     "height": 671
    },
    "id": "HvBI1WvfS7oz",
    "outputId": "c60bfcb5-8180-4911-8eb2-ba4093ab990c"
   },
   "outputs": [
    {
     "data": {
      "text/html": [
       "\n",
       "        <iframe\n",
       "            width=\"100%\"\n",
       "            height=\"650\"\n",
       "            src=\"http://127.0.0.1:8080/\"\n",
       "            frameborder=\"0\"\n",
       "            allowfullscreen\n",
       "        ></iframe>\n",
       "        "
      ],
      "text/plain": [
       "<IPython.lib.display.IFrame at 0x23b0835a808>"
      ]
     },
     "metadata": {},
     "output_type": "display_data"
    }
   ],
   "source": [
    "external_stylesheets = ['https://codepen.io/chriddyp/pen/bWLwgP.css']\n",
    "app = JupyterDash(__name__, external_stylesheets=external_stylesheets)\n",
    "image_filename = 'grafica1.png' # replace with your own image\n",
    "encoded_image = base64.b64encode(open(image_filename, 'rb').read())\n",
    "app.layout = html.Div([\n",
    "     dcc.Tabs([\n",
    "        dcc.Tab(label='Mundial', children=[\n",
    "            html.H1(children='EVOLUCION DEL CONSUMO Y GENERACION DE ENERGIA ELECTRIA '),\n",
    "    html.Div([dcc.Slider(\n",
    "      id='year--slider',\n",
    "      min=basedash['Año'].min(),\n",
    "      max=2015,\n",
    "      step=1,\n",
    "      value=1990,\n",
    "      marks={str(year): str(year) for year in np.arange(1960,2015,4)}\n",
    "    ),]),\n",
    "    html.Div([\n",
    "              html.Div([\n",
    "                        dcc.Graph(id='no-renovable',style={'width':'95%'}),\n",
    "              ],style={'width': '48%', 'display': 'inline-block'}),\n",
    "              html.Div([\n",
    "                        dcc.Graph(id='renovable',style={'width':'95%'}),\n",
    "              ],style={'width': '48%', 'display': 'inline-block'}),\n",
    "    ]),\n",
    "    html.Div([\n",
    "              html.Div([\n",
    "                        html.Img(src='data:image/png;base64,{}'.format(encoded_image.decode()),style={'width':'80%'}),\n",
    "              ],style={'width': '32%', 'display': 'inline-block','vertical-align': 'top'}),\n",
    "              html.Div([\n",
    "                        html.Div(id = 'output_1'),\n",
    "              ],style={'width': '32%', 'display': 'inline-block','vertical-align': 'middle'}),\n",
    "              html.Div([ \n",
    "                        dcc.Graph(id = 'output_2'),\n",
    "              ],style={'width': '32%', 'display': 'inline-block','vertical-align': 'middle'}),\n",
    "    ]),\n",
    "        ]),\n",
    "        dcc.Tab(label='Asia-Kuala Lumpur', children=[\n",
    "                html.Div([\n",
    "                        html.Div([\n",
    "                        html.Div('Malasia es un país asiático cuya energía depende en gran parte de recursos no renovables, lo cual incrementa los costos del servicio eléctrico; a esto se suma la fuerte sensación de humedad constante al año.'),\n",
    "              ],style={'vertical-align': 'top'}),\n",
    "                    \n",
    "              html.Div([\n",
    "                        dcc.Graph(id='sun',figure=fig_sun,style={'width': '32vw', 'height': '73vh'}),\n",
    "              ],style={'vertical-align': 'bottom'}),\n",
    "              ],style={'width': '32%', 'display': 'inline-block','vertical-align': 'top'}),\n",
    "              # Aqui acaba la primera columna\n",
    "              html.Div([\n",
    "                        html.Div([dcc.Graph(id='tree',figure=fig2,style={'width': '32vw', 'height': '100vh'})])]\n",
    "              ,style={'width': '32%', 'display': 'inline-block','vertical-align': 'top'}),\n",
    "              #Aqui acaba la segunda columna\n",
    "              html.Div([ \n",
    "                        html.Div([\n",
    "                        dcc.Graph(id='area',figure=fig_area,style={'width': '32vw', 'height': '42vh'}),\n",
    "              ],style={'height': '42%', 'vertical-align': 'top'}),\n",
    "              html.Div([\n",
    "                        dcc.Graph(id='barras',style={'width': '32vw', 'height': '42vh'}),\n",
    "              ],style={'height': '42%', 'vertical-align': 'top'}),\n",
    "              html.Div([dcc.Slider(\n",
    "                        id='bins',\n",
    "                        min=1,\n",
    "                        max=25,\n",
    "                        step=1,\n",
    "                        value=10),])\n",
    "              ],style={'width': '32%', 'display': 'inline-block','vertical-align': 'middle'}),\n",
    "        ]),\n",
    "         dcc.Tab(label='Modelo', children=[html.H1(children='Modelo predictivo por series de tiempo'),html.Div([dcc.Slider(\n",
    "                        id='prediccion',\n",
    "                        min=100,\n",
    "                        max=1000,\n",
    "                        step=10,\n",
    "                        value=10),]),\n",
    "                        html.Div([\n",
    "                        dcc.Graph(id='serie'),\n",
    "                        ]),\n",
    "          ]),                                  \n",
    "    ])\n",
    "])   \n",
    " \n",
    "@app.callback(Output('serie', 'figure'),\n",
    "              Input('prediccion','value'))\n",
    "def update_graph(prediccion):\n",
    "    lag_order = loaded_model.k_ar\n",
    "    predicted = loaded_model.forecast(ds_differenced.values[-lag_order:], prediccion)\n",
    "    forecast = pd.DataFrame(predicted, index = ds.index[-prediccion:], columns = ds.columns)\n",
    "    p2 = loaded_model.plot_forecast(1)\n",
    "    plotly_fig = mpl_to_plotly(p2)\n",
    "    return plotly_fig\n",
    "    \n",
    "@app.callback(Output('barras', 'figure'),\n",
    "              Input('bins','value'))\n",
    "def update_graph(bins):\n",
    "    fig = px.histogram(df, x='MEAN_TEMPERATURE_C', nbins=bins)\n",
    "    fig.update_layout(\n",
    "    title=\"Temperatura promedio\",\n",
    "    xaxis_title=\"Temperatura °C\",\n",
    "    yaxis_title=\"Frecuencia\")\n",
    "    return fig\n",
    "      \n",
    "@app.callback(Output('no-renovable', 'figure'),\n",
    "              Input('year--slider', 'value'))\n",
    "def update_graph(year_value):\n",
    "  fig = px.choropleth(basedash[basedash['Año']==year_value], locations=\"Country Code\",color=\"Electricity production from oil, gas and coal sources (% of total)\", # lifeExp is a column of gapminder\n",
    "      hover_name=\"Country Name\", # column to add to hover information\n",
    "      #animation_frame=\"Año\", # column on which to animate\n",
    "      #scope='asia',\n",
    "      color_continuous_scale=px.colors.sequential.amp)\n",
    "  fig.update_layout(\n",
    "  # add a title text for the plot\n",
    "      title_text = 'Producccion de Electricidad por fuentes no renovables (% del total)',\n",
    "     # set projection style for the plot\n",
    "      geo = dict(projection={'type':'natural earth'}) # by default,projection type is set to 'equirectangular'\n",
    "      )\n",
    "  fig.update_coloraxes(colorbar_title_text='% Total')\n",
    "  return fig\n",
    "\n",
    "@app.callback(Output('renovable', 'figure'),\n",
    "              Input('year--slider', 'value'))\n",
    "def update_graph(year_value):\n",
    "  fig = px.choropleth(basedash[basedash['Año']==year_value], locations=\"Country Code\",color=\"Electricity production from renewable sources, excluding hydroelectric (% of total)\", # lifeExp is a column of gapminder\n",
    "      hover_name=\"Country Name\", # column to add to hover information\n",
    "      #animation_frame=\"Año\", # column on which to animate\n",
    "      #scope='asia',\n",
    "      color_continuous_scale=px.colors.sequential.algae)\n",
    "  fig.update_layout(\n",
    "  # add a title text for the plot\n",
    "      title_text = 'Producccion de Electricidad por fuentes renovables (% del total)',\n",
    "     # set projection style for the plot\n",
    "      geo = dict(projection={'type':'natural earth'}) # by default,projection type is set to 'equirectangular'\n",
    "      )\n",
    "  fig.update_coloraxes(colorbar_title_text='% Total')\n",
    "  return fig\n",
    "\n",
    "@app.callback(\n",
    "    Output(component_id='output_1', component_property='children'),\n",
    "    Input(component_id='year--slider', component_property='value')\n",
    ")\n",
    "def update_output_div(input_value):\n",
    "  dr=EAyP[EAyP['Año']==input_value]['Electricity production from renewable sources, excluding hydroelectric (% of total)'].count()\n",
    "  per=EAyP[EAyP['Año']==input_value]['Electricity production from renewable sources, excluding hydroelectric (% of total)'].mean()\n",
    "  if dr==0:\n",
    "    return html.Div([\n",
    "                  html.Div('En el año {}, no hay datos reportados de la region del Este Asiatico y el Pacifico.'.format(input_value), style={'color': 'black', 'fontSize': 25}),\n",
    "                  ], style={'marginBottom': 150 }) \n",
    "  else:\n",
    "    return html.Div([\n",
    "                  html.Div('En el año {}, hay datos reportados de {} paises de la region del Este Asiatico y el Pacifico.'.format(input_value, dr), style={'color': 'black', 'fontSize': 25}),\n",
    "                  html.P('De estos, el porcentaje promedio de produccion de energia de fuentes renovables es {}%'. format(round(per, 2)), style={'color': 'green', 'fontSize': 25})\n",
    "                  ], style={'marginBottom': 150})\n",
    "@app.callback(\n",
    "    Output(component_id='output_2', component_property='figure'),\n",
    "    Input(component_id='year--slider', component_property='value')\n",
    ")\n",
    "def update_graph(input_value):\n",
    "  a1=max(1960,input_value-4)\n",
    "  le=np.arange(a1,input_value+1,1)\n",
    "  M=Malaysia[Malaysia['Año'].isin(le)]\n",
    "  fig=px.bar(M, x='Año',y='Electricity production from renewable sources, excluding hydroelectric (% of total)')\n",
    "  fig.update_layout(\n",
    "    # add a title text for the plot\n",
    "        title_text = 'Electricidad verde Malasia',\n",
    "        xaxis_title=\"Año\",\n",
    "        yaxis_title=\"% del Total\",)\n",
    "  return fig\n",
    "app.run_server(mode='inline', port=8080)"
   ]
  },
  {
   "cell_type": "code",
   "execution_count": null,
   "metadata": {
    "id": "5-DpXOMbIvUv"
   },
   "outputs": [],
   "source": []
  }
 ],
 "metadata": {
  "colab": {
   "name": "Tablero_VP_3.ipynb",
   "provenance": []
  },
  "kernelspec": {
   "display_name": "Python 3",
   "language": "python",
   "name": "python3"
  },
  "language_info": {
   "codemirror_mode": {
    "name": "ipython",
    "version": 3
   },
   "file_extension": ".py",
   "mimetype": "text/x-python",
   "name": "python",
   "nbconvert_exporter": "python",
   "pygments_lexer": "ipython3",
   "version": "3.7.6"
  }
 },
 "nbformat": 4,
 "nbformat_minor": 1
}
